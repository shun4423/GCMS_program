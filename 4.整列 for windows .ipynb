{
 "cells": [
  {
   "cell_type": "code",
   "execution_count": 1,
   "metadata": {},
   "outputs": [],
   "source": [
    "import openpyxl\n",
    "import glob\n",
    "import os\n",
    "from openpyxl import Workbook\n",
    "import numpy as np\n",
    "import xlwings as xw\n",
    "from openpyxl.styles import PatternFill"
   ]
  },
  {
   "cell_type": "code",
   "execution_count": 2,
   "metadata": {},
   "outputs": [],
   "source": [
    "#リテンションタイムで整列させるファイルのパス名を入力してください\n",
    "file=\"/Users/Miyo/Desktop/ガスクロ　プログラム/3.まとめ/比較用.xlsx\"\n",
    "\n",
    "#保存先のパス名\n",
    "savepath=\"/Users/Miyo/Desktop/ガスクロ　プログラム/4.比較/比較.xlsx\"\n",
    "originalfilepath=\"/Users/Miyo/Desktop/ガスクロ　プログラム/0.textから変換済み\"\n",
    "\n",
    "#色付けしたいCAS番号を入力してください\n",
    "given_CAS = ['928 - 96 - 1','3681 - 82 - 1','57 - 06 - 7',\n",
    "            '61315 - 63 - 7']"
   ]
  },
  {
   "cell_type": "code",
   "execution_count": 3,
   "metadata": {},
   "outputs": [
    {
     "name": "stdout",
     "output_type": "stream",
     "text": [
      "終了しました\n"
     ]
    }
   ],
   "source": [
    "\"\"\"\n",
    "３.まとめたファイルを整列させます。\n",
    "\"\"\"\n",
    "\n",
    "def getRt_CAS_cols(cols_list):\n",
    "    for i_list in [Rt_time_list,normal_list,small_list,big_list,Rt_time_value,CAS_val,CAS_list]:\n",
    "        i_list.clear()\n",
    "    for Rt_col in cols_list:\n",
    "        Rt_time_list.append(ws.cell(Rt_x,Rt_col))\n",
    "        if ws.cell(Rt_x,Rt_col).value != None:\n",
    "            Rt_time_value.append(ws.cell(Rt_x,Rt_col).value)\n",
    "        CAS_list.append(ws.cell(Rt_x,Rt_col+2))\n",
    "        if ws.cell(Rt_x,Rt_col+2).value != None:\n",
    "            CAS_val.append(ws.cell(Rt_x,Rt_col+2).value)\n",
    "            \n",
    "\n",
    "wb = openpyxl.load_workbook(file, data_only=True)\n",
    "ws = wb.worksheets[0]\n",
    "Rt_cols_list=[]\n",
    "for Rt_time_rows in ws.iter_rows(min_row=4, max_row=4):\n",
    "    for Rt_time_cell in Rt_time_rows:\n",
    "        if Rt_time_cell.value == 'Rt.time':\n",
    "            Rt_cols_list.append(Rt_time_cell.column)\n",
    "\n",
    "Rt_time_list,normal_list,small_list,big_list,Rt_time_value,CAS_val,CAS_list=[],[],[],[],[],[],[]\n",
    "x, Rt_x=5, 5\n",
    "Rt_flg, b_flg, s_flg=True, False ,False\n",
    "\n",
    "getRt_CAS_cols(Rt_cols_list)\n",
    "\n",
    "\n",
    "while len(Rt_time_value) != 0:\n",
    "    #Rttimeをリストに分ける\n",
    "    CAS_num=0\n",
    "    for Rt_time in Rt_time_list:\n",
    "        if Rt_time.value == None:\n",
    "            pass\n",
    "        elif max(Rt_time_value) - 0.5 <= Rt_time.value <= max(Rt_time_value):\n",
    "            big_list.append(Rt_time)\n",
    "            b_flg=True\n",
    "            CAS_num+=1\n",
    "        elif CAS_val[CAS_num]==CAS_val[Rt_time_value.index(max(Rt_time_value))]:#範囲外でも同じ化合物なら同じとみなす\n",
    "                big_list.append(Rt_time)\n",
    "                CAS_num+=1\n",
    "        elif min(Rt_time_value)<= Rt_time.value <= min(Rt_time_value) + 0.5:\n",
    "            small_list.append(Rt_time)\n",
    "            s_flg=True\n",
    "            CAS_num+=1\n",
    "        elif CAS_val[CAS_num]==CAS_val[Rt_time_value.index(min(Rt_time_value))]:#範囲外でも同じ化合物なら同じとみなす\n",
    "                    small_list.append(Rt_time)\n",
    "                    CAS_num+=1\n",
    "        else :\n",
    "            normal_list.append(Rt_time)\n",
    "            CAS_num+=1\n",
    "\n",
    "    s_flg=False\n",
    "    b_flg=False\n",
    "    #Rt.timeが小さいリスト以外を動かす\n",
    "    if len(small_list) != 0:\n",
    "        for b_sum in big_list:\n",
    "            normal_list.append(b_sum)\n",
    "        for move_col in normal_list:\n",
    "            start_cel=ws.cell(x,move_col.column-1).coordinate\n",
    "            end_cel= ws.cell(ws.max_row,move_col.column+4).coordinate\n",
    "            ws.move_range(start_cel+':'+end_cel, rows=9)\n",
    "    elif len(big_list) != 0 and len(normal_list) != 0:\n",
    "        for move_col in normal_list:\n",
    "            start_cel=ws.cell(x,move_col.column-1).coordinate\n",
    "            end_cel= ws.cell(ws.max_row,move_col.column+4).coordinate\n",
    "            ws.move_range(start_cel+':'+end_cel, rows=9)\n",
    "    else:\n",
    "        pass\n",
    "    x += 9\n",
    "    Rt_x +=9\n",
    "    Rt_flg= True\n",
    "    getRt_CAS_cols(Rt_cols_list)\n",
    "wb.save(savepath)    \n",
    "print('終了しました')"
   ]
  },
  {
   "cell_type": "code",
   "execution_count": 4,
   "metadata": {},
   "outputs": [
    {
     "name": "stdout",
     "output_type": "stream",
     "text": [
      "すべて終了しました\n"
     ]
    }
   ],
   "source": [
    "\"\"\"\n",
    "おまけ. 整列させたファイル上にオリジナルのデータ（シート）を追加します。\n",
    "\"\"\"\n",
    "#比較.xlsxのパス\n",
    "copy_path = '/Users/Miyo/Desktop/ガスクロ　プログラム/4.比較/比較.xlsx'\n",
    "xb2=xw.Book(copy_path)\n",
    "sheet = xb2.sheets[-1]\n",
    "#処理前のパス\n",
    "files = sorted(glob.glob(originalfilepath + \"/*.xlsx\"))\n",
    "\n",
    "\n",
    "for fil in files:\n",
    "    xb=xw.Book(fil)\n",
    "    xb.sheets[0].api.Copy(Before=sheet.api)\n",
    "    xb.close()\n",
    "    sheet = xb2.sheets[-1]\n",
    "xb2.save()\n",
    "xb2.close()\n",
    "print(\"すべて終了しました\")"
   ]
  },
  {
   "cell_type": "code",
   "execution_count": 5,
   "metadata": {},
   "outputs": [
    {
     "name": "stdout",
     "output_type": "stream",
     "text": [
      "終了しました\n"
     ]
    }
   ],
   "source": [
    "\"\"\"\n",
    "おまけ2. 　given_CAS[]に入れたCAS番が色付けされます\n",
    "\"\"\"\n",
    "wb4 = openpyxl.load_workbook(copy_path)\n",
    "ws4 = wb4.worksheets[-1]\n",
    "\n",
    "#CASと書かれたセルの座標を取得し、リストに作成\n",
    "CAS_list = []\n",
    "CAS_list.clear()\n",
    "for CAS_rows in ws4.iter_rows(min_row=4, max_row=4):\n",
    "    for CAS_row in CAS_rows:\n",
    "        if CAS_row.value == 'CAS #':\n",
    "            CAS_list.append(CAS_row.column)\n",
    "\n",
    "#色を塗る\n",
    "fill = PatternFill(patternType='solid', fgColor='FFFF66')#１６進数カラーコードHEXで好みの色に変更できます\n",
    "\n",
    "# write in sheet\n",
    "for fill_col in CAS_list:\n",
    "    for fill_cells in ws4.iter_cols(min_col=fill_col, max_col=fill_col):\n",
    "        for fill_cell in fill_cells:\n",
    "            if fill_cell.value in given_CAS:\n",
    "                ws4[fill_cell.coordinate].fill = fill\n",
    "\n",
    "wb4.save(copy_path)\n",
    "wb4.close()\n",
    "\n",
    "print('終了しました')\n"
   ]
  },
  {
   "cell_type": "code",
   "execution_count": null,
   "metadata": {},
   "outputs": [],
   "source": []
  },
  {
   "cell_type": "code",
   "execution_count": null,
   "metadata": {},
   "outputs": [],
   "source": []
  }
 ],
 "metadata": {
  "kernelspec": {
   "display_name": "Python 3",
   "language": "python",
   "name": "python3"
  },
  "language_info": {
   "codemirror_mode": {
    "name": "ipython",
    "version": 3
   },
   "file_extension": ".py",
   "mimetype": "text/x-python",
   "name": "python",
   "nbconvert_exporter": "python",
   "pygments_lexer": "ipython3",
   "version": "3.8.5"
  }
 },
 "nbformat": 4,
 "nbformat_minor": 4
}
